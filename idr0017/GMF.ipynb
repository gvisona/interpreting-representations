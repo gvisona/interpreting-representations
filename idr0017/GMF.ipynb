{
 "cells": [
  {
   "cell_type": "code",
   "execution_count": 1,
   "metadata": {},
   "outputs": [],
   "source": [
    "import numpy as np\n",
    "import matplotlib.pyplot as plt\n",
    "from collections import OrderedDict\n",
    "import pandas as pd\n",
    "from sklearn.model_selection import train_test_split\n",
    "import umap\n",
    "import torch\n",
    "import torch.nn as nn\n",
    "from torch.nn import functional as F\n",
    "from torch.utils.data import Dataset, DataLoader\n",
    "import pytorch_lightning as pl\n",
    "from pytorch_lightning.core.lightning import LightningModule\n",
    "from pytorch_lightning import loggers, Trainer\n",
    "from pytorch_lightning.callbacks.early_stopping import EarlyStopping\n",
    "from DataManager import DataManager"
   ]
  },
  {
   "cell_type": "code",
   "execution_count": 2,
   "metadata": {},
   "outputs": [],
   "source": [
    "dm = DataManager()"
   ]
  },
  {
   "cell_type": "code",
   "execution_count": 3,
   "metadata": {},
   "outputs": [
    {
     "data": {
      "text/html": [
       "<div>\n",
       "<style scoped>\n",
       "    .dataframe tbody tr th:only-of-type {\n",
       "        vertical-align: middle;\n",
       "    }\n",
       "\n",
       "    .dataframe tbody tr th {\n",
       "        vertical-align: top;\n",
       "    }\n",
       "\n",
       "    .dataframe thead th {\n",
       "        text-align: right;\n",
       "    }\n",
       "</style>\n",
       "<table border=\"1\" class=\"dataframe\">\n",
       "  <thead>\n",
       "    <tr style=\"text-align: right;\">\n",
       "      <th></th>\n",
       "      <th>PlateName</th>\n",
       "      <th>Well</th>\n",
       "      <th>Content</th>\n",
       "      <th>compoundID_384</th>\n",
       "      <th>compoundID</th>\n",
       "      <th>mol.weight.Structure</th>\n",
       "      <th>Name</th>\n",
       "      <th>SecName</th>\n",
       "      <th>Class</th>\n",
       "      <th>Enzyme</th>\n",
       "      <th>Action</th>\n",
       "      <th>Selectivity</th>\n",
       "      <th>Description</th>\n",
       "      <th>GeneID</th>\n",
       "      <th>Selectivity_updated</th>\n",
       "    </tr>\n",
       "  </thead>\n",
       "  <tbody>\n",
       "    <tr>\n",
       "      <th>0</th>\n",
       "      <td>P1</td>\n",
       "      <td>A03</td>\n",
       "      <td>sample</td>\n",
       "      <td>78875</td>\n",
       "      <td>78875</td>\n",
       "      <td>195,22001</td>\n",
       "      <td>DL-alpha-Methyl-p-tyrosine</td>\n",
       "      <td>4-Hydroxy-alpha-methylphenylalanine</td>\n",
       "      <td>Neurotransmission</td>\n",
       "      <td>Enzyme</td>\n",
       "      <td>Inhibitor</td>\n",
       "      <td>Tyrosine hydroxylase</td>\n",
       "      <td>Inhibitor of catecholamine synthesis and tyros...</td>\n",
       "      <td>78875</td>\n",
       "      <td>Tyrosine hydroxylase</td>\n",
       "    </tr>\n",
       "    <tr>\n",
       "      <th>1</th>\n",
       "      <td>P1</td>\n",
       "      <td>A04</td>\n",
       "      <td>sample</td>\n",
       "      <td>78955</td>\n",
       "      <td>78955</td>\n",
       "      <td>163,19638</td>\n",
       "      <td>N-Acetyl-L-Cysteine</td>\n",
       "      <td></td>\n",
       "      <td>Glutamate</td>\n",
       "      <td></td>\n",
       "      <td>Antagonist</td>\n",
       "      <td></td>\n",
       "      <td>Amino acid analog that partially improves neur...</td>\n",
       "      <td>78955</td>\n",
       "      <td>AA-analog</td>\n",
       "    </tr>\n",
       "    <tr>\n",
       "      <th>2</th>\n",
       "      <td>P1</td>\n",
       "      <td>A05</td>\n",
       "      <td>sample</td>\n",
       "      <td>78876</td>\n",
       "      <td>78876</td>\n",
       "      <td>202,25818</td>\n",
       "      <td>6-Methoxy-1,2,3,4-tetrahydro-9H-pyrido[3,4b] i...</td>\n",
       "      <td></td>\n",
       "      <td>Neurotransmission</td>\n",
       "      <td>Enzyme</td>\n",
       "      <td>Inhibitor</td>\n",
       "      <td>MAO</td>\n",
       "      <td>MAO inhibitor</td>\n",
       "      <td>78876</td>\n",
       "      <td>MAO</td>\n",
       "    </tr>\n",
       "    <tr>\n",
       "      <th>3</th>\n",
       "      <td>P1</td>\n",
       "      <td>A06</td>\n",
       "      <td>sample</td>\n",
       "      <td>78956</td>\n",
       "      <td>78956</td>\n",
       "      <td>131,17601</td>\n",
       "      <td>6-Aminohexanoic acid</td>\n",
       "      <td>6-Aminocaproic acid; EACA</td>\n",
       "      <td>Immune System</td>\n",
       "      <td></td>\n",
       "      <td>Inhibitor</td>\n",
       "      <td>Blood Clotting</td>\n",
       "      <td>Promotes rapid dissociation of plasmin, thereb...</td>\n",
       "      <td>78956</td>\n",
       "      <td>Blood Clotting</td>\n",
       "    </tr>\n",
       "    <tr>\n",
       "      <th>4</th>\n",
       "      <td>P1</td>\n",
       "      <td>A07</td>\n",
       "      <td>sample</td>\n",
       "      <td>78877</td>\n",
       "      <td>78877</td>\n",
       "      <td>59,06825</td>\n",
       "      <td>Acetamide</td>\n",
       "      <td>Amide C2</td>\n",
       "      <td>Biochemistry</td>\n",
       "      <td>Enzyme</td>\n",
       "      <td>Inhibitor</td>\n",
       "      <td>Carbonic anhydrase</td>\n",
       "      <td>Carbonic anhydrase inhibitor</td>\n",
       "      <td>78877</td>\n",
       "      <td>Carbonic anhydrase</td>\n",
       "    </tr>\n",
       "    <tr>\n",
       "      <th>...</th>\n",
       "      <td>...</td>\n",
       "      <td>...</td>\n",
       "      <td>...</td>\n",
       "      <td>...</td>\n",
       "      <td>...</td>\n",
       "      <td>...</td>\n",
       "      <td>...</td>\n",
       "      <td>...</td>\n",
       "      <td>...</td>\n",
       "      <td>...</td>\n",
       "      <td>...</td>\n",
       "      <td>...</td>\n",
       "      <td>...</td>\n",
       "      <td>...</td>\n",
       "      <td>...</td>\n",
       "    </tr>\n",
       "    <tr>\n",
       "      <th>1367</th>\n",
       "      <td>P4</td>\n",
       "      <td>P18</td>\n",
       "      <td>sample</td>\n",
       "      <td>80152</td>\n",
       "      <td>80152</td>\n",
       "      <td>522,6251</td>\n",
       "      <td>( R)-(+)-WIN 55,212-2 mesylate</td>\n",
       "      <td>(R)-(+)-[2,3-Dihydro-5-methyl-3[(morpholinyl)m...</td>\n",
       "      <td>Cannabinoid</td>\n",
       "      <td></td>\n",
       "      <td>Agonist</td>\n",
       "      <td></td>\n",
       "      <td>High affinity cannabinoid receptor agonist</td>\n",
       "      <td>80152</td>\n",
       "      <td>NA</td>\n",
       "    </tr>\n",
       "    <tr>\n",
       "      <th>1368</th>\n",
       "      <td>P4</td>\n",
       "      <td>P19</td>\n",
       "      <td>sample</td>\n",
       "      <td>80073</td>\n",
       "      <td>80073</td>\n",
       "      <td>423,34072</td>\n",
       "      <td>N,N,N-trimethyl-1-(4-trans-stilbenoxy)-2-propy...</td>\n",
       "      <td>F3</td>\n",
       "      <td>Cholinergic</td>\n",
       "      <td></td>\n",
       "      <td>Antagonist</td>\n",
       "      <td>Nicotinic</td>\n",
       "      <td>Nicotinic acetylcholine receptor antagonist</td>\n",
       "      <td>80073</td>\n",
       "      <td>acetylcholine receptor</td>\n",
       "    </tr>\n",
       "    <tr>\n",
       "      <th>1369</th>\n",
       "      <td>P4</td>\n",
       "      <td>P20</td>\n",
       "      <td>sample</td>\n",
       "      <td>80153</td>\n",
       "      <td>80153</td>\n",
       "      <td>428,49511</td>\n",
       "      <td>Xanthine amine congener</td>\n",
       "      <td>8-[4-[[[[(2-Aminoethyl)amino]carbonyl]methyl]o...</td>\n",
       "      <td>Adenosine</td>\n",
       "      <td></td>\n",
       "      <td>Antagonist</td>\n",
       "      <td>A1</td>\n",
       "      <td>A1 Adenosine receptor antagonist</td>\n",
       "      <td>80153</td>\n",
       "      <td>adenosine receptor</td>\n",
       "    </tr>\n",
       "    <tr>\n",
       "      <th>1370</th>\n",
       "      <td>P4</td>\n",
       "      <td>P21</td>\n",
       "      <td>sample</td>\n",
       "      <td>80074</td>\n",
       "      <td>80074</td>\n",
       "      <td>212,17589</td>\n",
       "      <td>1-[2-(Trifluoromethyl)phenyl]imidazole</td>\n",
       "      <td>TRIM</td>\n",
       "      <td>Nitric Oxide</td>\n",
       "      <td>Enzyme</td>\n",
       "      <td>Inhibitor</td>\n",
       "      <td>NOS</td>\n",
       "      <td>Potent nitric oxide synthase (NOS) inhibitor</td>\n",
       "      <td>80074</td>\n",
       "      <td>NOS</td>\n",
       "    </tr>\n",
       "    <tr>\n",
       "      <th>1371</th>\n",
       "      <td>P4</td>\n",
       "      <td>P22</td>\n",
       "      <td>sample</td>\n",
       "      <td>80154</td>\n",
       "      <td>80154</td>\n",
       "      <td>390,15323</td>\n",
       "      <td>Zimelidine dihydrochloride</td>\n",
       "      <td>(Z)-3-(4-Bromophenyl)-N,N-dimethyl-3-(3-pyridi...</td>\n",
       "      <td>Serotonin</td>\n",
       "      <td></td>\n",
       "      <td>Inhibitor</td>\n",
       "      <td>Reuptake</td>\n",
       "      <td>Serotonin reuptake inhibitor; antidepressant</td>\n",
       "      <td>80154</td>\n",
       "      <td>serotonin</td>\n",
       "    </tr>\n",
       "  </tbody>\n",
       "</table>\n",
       "<p>1372 rows × 15 columns</p>\n",
       "</div>"
      ],
      "text/plain": [
       "     PlateName Well Content compoundID_384 compoundID mol.weight.Structure  \\\n",
       "0           P1  A03  sample          78875      78875            195,22001   \n",
       "1           P1  A04  sample          78955      78955            163,19638   \n",
       "2           P1  A05  sample          78876      78876            202,25818   \n",
       "3           P1  A06  sample          78956      78956            131,17601   \n",
       "4           P1  A07  sample          78877      78877             59,06825   \n",
       "...        ...  ...     ...            ...        ...                  ...   \n",
       "1367        P4  P18  sample          80152      80152             522,6251   \n",
       "1368        P4  P19  sample          80073      80073            423,34072   \n",
       "1369        P4  P20  sample          80153      80153            428,49511   \n",
       "1370        P4  P21  sample          80074      80074            212,17589   \n",
       "1371        P4  P22  sample          80154      80154            390,15323   \n",
       "\n",
       "                                                   Name  \\\n",
       "0                            DL-alpha-Methyl-p-tyrosine   \n",
       "1                                   N-Acetyl-L-Cysteine   \n",
       "2     6-Methoxy-1,2,3,4-tetrahydro-9H-pyrido[3,4b] i...   \n",
       "3                                  6-Aminohexanoic acid   \n",
       "4                                             Acetamide   \n",
       "...                                                 ...   \n",
       "1367                     ( R)-(+)-WIN 55,212-2 mesylate   \n",
       "1368  N,N,N-trimethyl-1-(4-trans-stilbenoxy)-2-propy...   \n",
       "1369                            Xanthine amine congener   \n",
       "1370             1-[2-(Trifluoromethyl)phenyl]imidazole   \n",
       "1371                         Zimelidine dihydrochloride   \n",
       "\n",
       "                                                SecName              Class  \\\n",
       "0                   4-Hydroxy-alpha-methylphenylalanine  Neurotransmission   \n",
       "1                                                                Glutamate   \n",
       "2                                                        Neurotransmission   \n",
       "3                             6-Aminocaproic acid; EACA      Immune System   \n",
       "4                                              Amide C2       Biochemistry   \n",
       "...                                                 ...                ...   \n",
       "1367  (R)-(+)-[2,3-Dihydro-5-methyl-3[(morpholinyl)m...        Cannabinoid   \n",
       "1368                                                 F3        Cholinergic   \n",
       "1369  8-[4-[[[[(2-Aminoethyl)amino]carbonyl]methyl]o...          Adenosine   \n",
       "1370                                               TRIM       Nitric Oxide   \n",
       "1371  (Z)-3-(4-Bromophenyl)-N,N-dimethyl-3-(3-pyridi...          Serotonin   \n",
       "\n",
       "      Enzyme      Action           Selectivity  \\\n",
       "0     Enzyme   Inhibitor  Tyrosine hydroxylase   \n",
       "1             Antagonist                         \n",
       "2     Enzyme   Inhibitor                   MAO   \n",
       "3              Inhibitor        Blood Clotting   \n",
       "4     Enzyme   Inhibitor    Carbonic anhydrase   \n",
       "...      ...         ...                   ...   \n",
       "1367             Agonist                         \n",
       "1368          Antagonist             Nicotinic   \n",
       "1369          Antagonist                    A1   \n",
       "1370  Enzyme   Inhibitor                   NOS   \n",
       "1371           Inhibitor              Reuptake   \n",
       "\n",
       "                                            Description GeneID  \\\n",
       "0     Inhibitor of catecholamine synthesis and tyros...  78875   \n",
       "1     Amino acid analog that partially improves neur...  78955   \n",
       "2                                         MAO inhibitor  78876   \n",
       "3     Promotes rapid dissociation of plasmin, thereb...  78956   \n",
       "4                          Carbonic anhydrase inhibitor  78877   \n",
       "...                                                 ...    ...   \n",
       "1367         High affinity cannabinoid receptor agonist  80152   \n",
       "1368        Nicotinic acetylcholine receptor antagonist  80073   \n",
       "1369                   A1 Adenosine receptor antagonist  80153   \n",
       "1370       Potent nitric oxide synthase (NOS) inhibitor  80074   \n",
       "1371       Serotonin reuptake inhibitor; antidepressant  80154   \n",
       "\n",
       "         Selectivity_updated  \n",
       "0       Tyrosine hydroxylase  \n",
       "1                  AA-analog  \n",
       "2                        MAO  \n",
       "3             Blood Clotting  \n",
       "4         Carbonic anhydrase  \n",
       "...                      ...  \n",
       "1367                      NA  \n",
       "1368  acetylcholine receptor  \n",
       "1369      adenosine receptor  \n",
       "1370                     NOS  \n",
       "1371               serotonin  \n",
       "\n",
       "[1372 rows x 15 columns]"
      ]
     },
     "execution_count": 3,
     "metadata": {},
     "output_type": "execute_result"
    }
   ],
   "source": [
    "dm.drug_df"
   ]
  },
  {
   "cell_type": "markdown",
   "metadata": {},
   "source": [
    "## Model"
   ]
  },
  {
   "cell_type": "code",
   "execution_count": 47,
   "metadata": {},
   "outputs": [],
   "source": [
    "class PhenotypicFeaturesDataset(Dataset):\n",
    "    def __init__(self, train=True, seed=42, train_val_split=0.15, transform=None):\n",
    "        self.features_data = dm.data.values[:,3:]\n",
    "        self.index_data = dm.data[[\"drug\", \"cell_line\"]].values\n",
    "        if train_val_split > 0:\n",
    "            ftr_train, ftr_val, idx_train, idx_val = train_test_split(self.features_data, self.index_data, \n",
    "                                                                      test_size=train_val_split, \n",
    "                                                                      random_state=seed)\n",
    "            self.features_data = ftr_train if train else ftr_val\n",
    "            self.index_data = idx_train if train else idx_val\n",
    "            \n",
    "        if transform is not None:\n",
    "            self.features_data = transform(self.features_data)\n",
    "\n",
    "    def __len__(self):\n",
    "        return len(self.features_data)\n",
    "\n",
    "    def __getitem__(self, idx):\n",
    "        return self.index_data[idx], self.features_data[idx]\n",
    "    \n",
    "\n",
    "class GMF(LightningModule):\n",
    "    def __init__(self, hparams, train_dataset, val_dataset):\n",
    "        super().__init__()\n",
    "        self.hparams = hparams\n",
    "        self.train_dataset = train_dataset\n",
    "        self.val_dataset = val_dataset\n",
    "        \n",
    "        output_size = hparams.get(\"output_size\", 385)\n",
    "        latent_dim = hparams.get(\"latent_dim\", 10)\n",
    "        dropout_p = hparams.get(\"dropout_p\", 0.1)\n",
    "        self.drug_embedding = nn.Embedding(len(np.unique(dm.data[\"drug\"])), latent_dim)\n",
    "        self.cl_embedding = nn.Embedding(len(np.unique(dm.data[\"cell_line\"])), latent_dim)\n",
    "        \n",
    "        h_layers = hparams.get(\"h_layers\", [63, 128])\n",
    "        h_layers = [2*latent_dim] + h_layers\n",
    "        act_function = hparams.get(\"activation\", \"ReLU\")\n",
    "        activation = getattr(nn, act_function)\n",
    "        layers = []\n",
    "        for i in range(len(h_layers)-1):\n",
    "            layers.append(nn.Linear(h_layers[i], h_layers[i+1]))\n",
    "            if act_function==\"ReLU\":\n",
    "                layers.append(nn.Dropout(dropout_p))\n",
    "                layers.append(activation())\n",
    "            else:\n",
    "                layers.append(activation())\n",
    "                layers.append(nn.Dropout(dropout_p))\n",
    "        layers.append(nn.Linear(h_layers[-1], output_size))\n",
    "            \n",
    "        self.network = nn.Sequential(*layers)\n",
    "        \n",
    "        loss_function = hparams.get(\"loss\", \"MSE\")\n",
    "        self.loss = None\n",
    "        if loss_function == \"MSE\":\n",
    "            self.loss = F.mse_loss\n",
    "        elif loss_function == \"L1\":\n",
    "            self.loss = F.l1_loss\n",
    "        elif loss_function == \"Huber\":\n",
    "            self.loss = nn.SmoothL1Loss()\n",
    "        assert self.loss is not None\n",
    "        \n",
    "        \n",
    "    def forward(self, drug, cell_line):\n",
    "        drug_tensor = self.drug_embedding(drug)\n",
    "        cell_line_tensor = self.cl_embedding(cell_line)\n",
    "        input_tensor = torch.cat((drug_tensor, cell_line_tensor), dim=1)\n",
    "        return self.network(input_tensor)\n",
    "    \n",
    "    def configure_optimizers(self):\n",
    "        lr = self.hparams.get(\"lr\", 1e-3)\n",
    "        wd = self.hparams.get(\"wd\", 1e-5)\n",
    "        optimizer = torch.optim.Adam(self.parameters(),\n",
    "                                     lr=lr,\n",
    "                                     weight_decay=wd)\n",
    "        return optimizer\n",
    "    \n",
    "    def train_dataloader(self):\n",
    "        batch_size = self.hparams.get(\"batch_size\", 32)\n",
    "        num_workers = self.hparams.get(\"num_workers\", 1)\n",
    "        loader = DataLoader(self.train_dataset,\n",
    "                            batch_size=batch_size,\n",
    "                            num_workers=num_workers,\n",
    "                            shuffle=True,\n",
    "                            drop_last=False, pin_memory=True)\n",
    "        return loader\n",
    "    \n",
    "    def val_dataloader(self):\n",
    "        batch_size = self.hparams.get(\"batch_size\", 32)\n",
    "        num_workers = self.hparams.get(\"num_workers\", 1)\n",
    "        loader = DataLoader(self.val_dataset,\n",
    "                            batch_size=batch_size,\n",
    "                            num_workers=num_workers,\n",
    "                            shuffle=False,\n",
    "                            drop_last=False, pin_memory=True)\n",
    "        return loader\n",
    "    \n",
    "    def training_step(self, batch, batch_idx):\n",
    "        indexing_tensor, features_tensor = batch\n",
    "        \n",
    "        drug_idxs_tensor = indexing_tensor[:,0]\n",
    "        cl_idxs_tensor = indexing_tensor[:,1]\n",
    "        output_tensor = self(drug_idxs_tensor, cl_idxs_tensor).double()\n",
    "        train_loss = self.loss(output_tensor, features_tensor.double())\n",
    "        \n",
    "        \n",
    "        return {\"loss\": train_loss}\n",
    "    \n",
    "    def validation_step(self, batch, batch_idx):\n",
    "        indexing_tensor, features_tensor = batch\n",
    "        \n",
    "        drug_idxs_tensor = indexing_tensor[:,0]\n",
    "        cl_idxs_tensor = indexing_tensor[:,1]\n",
    "        output_tensor = self(drug_idxs_tensor, cl_idxs_tensor)\n",
    "        val_loss = self.loss(output_tensor, features_tensor)\n",
    "        outputs = {\"loss\": val_loss}\n",
    "        return outputs\n",
    "\n",
    "    def validation_epoch_end(self, outputs):\n",
    "        if outputs:\n",
    "            avg_loss = torch.stack([x['loss'] for x in outputs]).mean()\n",
    "            print(\"Validation Epoch Loss: {}\".format(avg_loss))\n",
    "            return {'val_loss': avg_loss}\n",
    "        return {}\n",
    "    \n",
    "    def get_drug_embeddings(self):\n",
    "        return self.drug_embedding.weight.cpu().detach().numpy()\n",
    "    \n",
    "    def get_cl_embeddings(self):\n",
    "        return self.cl_embedding.weight.cpu().detach().numpy()"
   ]
  },
  {
   "cell_type": "code",
   "execution_count": 49,
   "metadata": {
    "scrolled": false
   },
   "outputs": [
    {
     "name": "stderr",
     "output_type": "stream",
     "text": [
      "INFO:lightning:GPU available: False, used: False\n",
      "INFO:lightning:\n",
      "   | Name           | Type       | Params\n",
      "------------------------------------------\n",
      "0  | drug_embedding | Embedding  | 2 K   \n",
      "1  | cl_embedding   | Embedding  | 24    \n",
      "2  | network        | Sequential | 60 K  \n",
      "3  | network.0      | Linear     | 160   \n",
      "4  | network.1      | Dropout    | 0     \n",
      "5  | network.2      | ReLU       | 0     \n",
      "6  | network.3      | Linear     | 2 K   \n",
      "7  | network.4      | Dropout    | 0     \n",
      "8  | network.5      | ReLU       | 0     \n",
      "9  | network.6      | Linear     | 8 K   \n",
      "10 | network.7      | Dropout    | 0     \n",
      "11 | network.8      | ReLU       | 0     \n",
      "12 | network.9      | Linear     | 49 K  \n"
     ]
    },
    {
     "data": {
      "application/vnd.jupyter.widget-view+json": {
       "model_id": "",
       "version_major": 2,
       "version_minor": 0
      },
      "text/plain": [
       "HBox(children=(FloatProgress(value=1.0, bar_style='info', description='Validation sanity check', layout=Layout…"
      ]
     },
     "metadata": {},
     "output_type": "display_data"
    },
    {
     "name": "stdout",
     "output_type": "stream",
     "text": [
      "Validation Epoch Loss: 31.399581317264836\n",
      "\r"
     ]
    },
    {
     "data": {
      "application/vnd.jupyter.widget-view+json": {
       "model_id": "da24311d4f2741f8a613f6786c21ad9d",
       "version_major": 2,
       "version_minor": 0
      },
      "text/plain": [
       "HBox(children=(FloatProgress(value=1.0, bar_style='info', description='Training', layout=Layout(flex='2'), max…"
      ]
     },
     "metadata": {},
     "output_type": "display_data"
    },
    {
     "data": {
      "application/vnd.jupyter.widget-view+json": {
       "model_id": "",
       "version_major": 2,
       "version_minor": 0
      },
      "text/plain": [
       "HBox(children=(FloatProgress(value=1.0, bar_style='info', description='Validating', layout=Layout(flex='2'), m…"
      ]
     },
     "metadata": {},
     "output_type": "display_data"
    },
    {
     "name": "stdout",
     "output_type": "stream",
     "text": [
      "Validation Epoch Loss: 0.10169445942492898\n"
     ]
    },
    {
     "data": {
      "application/vnd.jupyter.widget-view+json": {
       "model_id": "",
       "version_major": 2,
       "version_minor": 0
      },
      "text/plain": [
       "HBox(children=(FloatProgress(value=1.0, bar_style='info', description='Validating', layout=Layout(flex='2'), m…"
      ]
     },
     "metadata": {},
     "output_type": "display_data"
    },
    {
     "name": "stdout",
     "output_type": "stream",
     "text": [
      "Validation Epoch Loss: 0.06201643497569682\n"
     ]
    },
    {
     "data": {
      "application/vnd.jupyter.widget-view+json": {
       "model_id": "",
       "version_major": 2,
       "version_minor": 0
      },
      "text/plain": [
       "HBox(children=(FloatProgress(value=1.0, bar_style='info', description='Validating', layout=Layout(flex='2'), m…"
      ]
     },
     "metadata": {},
     "output_type": "display_data"
    },
    {
     "name": "stdout",
     "output_type": "stream",
     "text": [
      "Validation Epoch Loss: 0.054564353739761866\n"
     ]
    },
    {
     "data": {
      "application/vnd.jupyter.widget-view+json": {
       "model_id": "",
       "version_major": 2,
       "version_minor": 0
      },
      "text/plain": [
       "HBox(children=(FloatProgress(value=1.0, bar_style='info', description='Validating', layout=Layout(flex='2'), m…"
      ]
     },
     "metadata": {},
     "output_type": "display_data"
    },
    {
     "name": "stdout",
     "output_type": "stream",
     "text": [
      "Validation Epoch Loss: 0.05020147383571859\n"
     ]
    },
    {
     "data": {
      "application/vnd.jupyter.widget-view+json": {
       "model_id": "",
       "version_major": 2,
       "version_minor": 0
      },
      "text/plain": [
       "HBox(children=(FloatProgress(value=1.0, bar_style='info', description='Validating', layout=Layout(flex='2'), m…"
      ]
     },
     "metadata": {},
     "output_type": "display_data"
    },
    {
     "name": "stdout",
     "output_type": "stream",
     "text": [
      "Validation Epoch Loss: 0.05215585760052447\n",
      "\n"
     ]
    },
    {
     "data": {
      "text/plain": [
       "1"
      ]
     },
     "execution_count": 49,
     "metadata": {},
     "output_type": "execute_result"
    }
   ],
   "source": [
    "gmf_config = {\"latent_dim\": 2,\n",
    "             \"h_layers\": [32, 64, 128],\n",
    "             \"activation\": \"ReLU\",\n",
    "             \"lr\": 1e-3,\n",
    "             \"wd\": 1e-5,\n",
    "             \"batch_size\": 32,\n",
    "             \"num_workers\": 10,\n",
    "              \"loss\": \"MSE\"\n",
    "             }\n",
    "\n",
    "train_ds = PhenotypicFeaturesDataset(train=True, seed=42, train_val_split=0.15, transform=None)\n",
    "val_ds = PhenotypicFeaturesDataset(train=False, seed=42, train_val_split=0.15, transform=None)\n",
    "\n",
    "model = GMF(gmf_config, train_ds, val_ds)\n",
    "\n",
    "#early_stopping_cb = EarlyStopping('val_loss', patience=5)\n",
    "trainer = Trainer(gpus=0,\n",
    "                  max_epochs=5,\n",
    "                  default_save_path=\"/home/gvisona/Projects/interpreting-representations/idr0017/output\")\n",
    "                  #logger=[tb_logger, neptune_logger],\n",
    "                  #callbacks=[early_stopping_cb])\n",
    "trainer.fit(model)"
   ]
  },
  {
   "cell_type": "code",
   "execution_count": 50,
   "metadata": {},
   "outputs": [],
   "source": [
    "drug_embeddings = model.get_drug_embeddings()\n",
    "cl_embeddings = model.get_cl_embeddings()"
   ]
  },
  {
   "cell_type": "code",
   "execution_count": 52,
   "metadata": {},
   "outputs": [
    {
     "data": {
      "image/png": "[encoded data removed]",
      "text/plain": [
       "<Figure size 864x864 with 1 Axes>"
      ]
     },
     "metadata": {
      "needs_background": "light"
     },
     "output_type": "display_data"
    }
   ],
   "source": [
    "fig, ax = plt.subplots(figsize=(12,12))\n",
    "ax.scatter(drug_embeddings[:,0], drug_embeddings[:,1], c=\"orange\", label=\"drugs\")\n",
    "ax.scatter(cl_embeddings[:,0], cl_embeddings[:,1], c=\"blue\", label=\"mutations\")\n",
    "ax.legend()\n",
    "plt.show()"
   ]
  },
  {
   "cell_type": "markdown",
   "metadata": {},
   "source": [
    "## Distances"
   ]
  },
  {
   "cell_type": "code",
   "execution_count": 54,
   "metadata": {},
   "outputs": [],
   "source": [
    "from scipy.spatial import distance\n",
    "\n",
    "def closest_node_sp(node, nodes):\n",
    "    closest_index = distance.cdist([node], nodes).argmin()\n",
    "    return closest_index\n",
    "\n",
    "def closest_node_cos(node, nodes):\n",
    "    closest_index = np.array([distance.cdist([node], [n]) for n in nodes]).argmin()\n",
    "    return closest_index\n",
    "\n",
    "def closest_node(node, nodes):\n",
    "    nodes = np.asarray(nodes)\n",
    "    deltas = nodes - node\n",
    "    dist_2 = np.einsum('ij,ij->i', deltas, deltas)\n",
    "    return np.argmin(dist_2)"
   ]
  },
  {
   "cell_type": "code",
   "execution_count": 58,
   "metadata": {},
   "outputs": [
    {
     "data": {
      "text/plain": [
       "PlateName                                                              P4\n",
       "Well                                                                  O03\n",
       "Content                                                            sample\n",
       "compoundID_384                                                      79905\n",
       "compoundID                                                          79905\n",
       "mol.weight.Structure                                            427,03188\n",
       "Name                    (+-)-threo-1-Phenyl-2-decanoylamino-3-morpholi...\n",
       "SecName                                                PDMP hydrochloride\n",
       "Class                                                        Sphingolipid\n",
       "Enzyme                                                             Enzyme\n",
       "Action                                                          Inhibitor\n",
       "Selectivity                                     Glucosylceramide synthase\n",
       "Description             Glucosylceramide synthase inhibitor; blocks fo...\n",
       "GeneID                                                              79905\n",
       "Selectivity_updated                             Glucosylceramide synthase\n",
       "Name: 1332, dtype: object"
      ]
     },
     "execution_count": 58,
     "metadata": {},
     "output_type": "execute_result"
    }
   ],
   "source": [
    "dm.drug_df.iloc[1332]"
   ]
  },
  {
   "cell_type": "code",
   "execution_count": 60,
   "metadata": {},
   "outputs": [
    {
     "data": {
      "text/html": [
       "<div>\n",
       "<style scoped>\n",
       "    .dataframe tbody tr th:only-of-type {\n",
       "        vertical-align: middle;\n",
       "    }\n",
       "\n",
       "    .dataframe tbody tr th {\n",
       "        vertical-align: top;\n",
       "    }\n",
       "\n",
       "    .dataframe thead th {\n",
       "        text-align: right;\n",
       "    }\n",
       "</style>\n",
       "<table border=\"1\" class=\"dataframe\">\n",
       "  <thead>\n",
       "    <tr style=\"text-align: right;\">\n",
       "      <th></th>\n",
       "      <th>mutation_idx</th>\n",
       "      <th>mutation_name</th>\n",
       "      <th>drug_idx</th>\n",
       "      <th>drug_secname</th>\n",
       "      <th>drug_name</th>\n",
       "    </tr>\n",
       "  </thead>\n",
       "  <tbody>\n",
       "    <tr>\n",
       "      <th>0</th>\n",
       "      <td>0</td>\n",
       "      <td>AKT1-/-&amp;AKT2-/-</td>\n",
       "      <td>1332</td>\n",
       "      <td>PDMP hydrochloride</td>\n",
       "      <td>(+-)-threo-1-Phenyl-2-decanoylamino-3-morpholi...</td>\n",
       "    </tr>\n",
       "    <tr>\n",
       "      <th>1</th>\n",
       "      <td>1</td>\n",
       "      <td>MEK2-/-</td>\n",
       "      <td>261</td>\n",
       "      <td></td>\n",
       "      <td></td>\n",
       "    </tr>\n",
       "    <tr>\n",
       "      <th>2</th>\n",
       "      <td>2</td>\n",
       "      <td>AKT1-/-</td>\n",
       "      <td>1140</td>\n",
       "      <td>MDL-72222</td>\n",
       "      <td>3-Tropanyl-3,5-dichlorobenzoate</td>\n",
       "    </tr>\n",
       "    <tr>\n",
       "      <th>3</th>\n",
       "      <td>3</td>\n",
       "      <td>CTNNB1 mt-/wt+</td>\n",
       "      <td>877</td>\n",
       "      <td></td>\n",
       "      <td>Methoxamine hydrochloride</td>\n",
       "    </tr>\n",
       "    <tr>\n",
       "      <th>4</th>\n",
       "      <td>4</td>\n",
       "      <td>PARENTAL007</td>\n",
       "      <td>875</td>\n",
       "      <td>GI 267119X; 6-(2,3-dichlorophenyl)-1,2,4-triaz...</td>\n",
       "      <td>Lamotrigine</td>\n",
       "    </tr>\n",
       "    <tr>\n",
       "      <th>5</th>\n",
       "      <td>5</td>\n",
       "      <td>P53-/-</td>\n",
       "      <td>497</td>\n",
       "      <td>3-Hydroxy-5-aminomethylisoxazole hydrobromide</td>\n",
       "      <td>Muscimol hydrobromide</td>\n",
       "    </tr>\n",
       "    <tr>\n",
       "      <th>6</th>\n",
       "      <td>6</td>\n",
       "      <td>PTEN-/-</td>\n",
       "      <td>1073</td>\n",
       "      <td>Putrescine dihydrochloride</td>\n",
       "      <td>Putrescine dihydrochloride</td>\n",
       "    </tr>\n",
       "    <tr>\n",
       "      <th>7</th>\n",
       "      <td>7</td>\n",
       "      <td>PI3KCA mt-/wt+</td>\n",
       "      <td>103</td>\n",
       "      <td>4-Chlorobenzo[f]isoquinolone</td>\n",
       "      <td>CBIQ</td>\n",
       "    </tr>\n",
       "    <tr>\n",
       "      <th>8</th>\n",
       "      <td>8</td>\n",
       "      <td>KRAS mt-/wt+</td>\n",
       "      <td>933</td>\n",
       "      <td>3-(2,4-Dichlorophenyl)-4-(1-methyl-1H-indol-3-...</td>\n",
       "      <td>SB 216763</td>\n",
       "    </tr>\n",
       "    <tr>\n",
       "      <th>9</th>\n",
       "      <td>9</td>\n",
       "      <td>BAX-/-</td>\n",
       "      <td>1324</td>\n",
       "      <td>3,7-Dimethylxanthine</td>\n",
       "      <td>Theobromine</td>\n",
       "    </tr>\n",
       "    <tr>\n",
       "      <th>10</th>\n",
       "      <td>10</td>\n",
       "      <td>MEK1-/-</td>\n",
       "      <td>331</td>\n",
       "      <td>1-trans-Cinnamyl-4-diphenylmethylpiperazine</td>\n",
       "      <td>Cinnarizine</td>\n",
       "    </tr>\n",
       "    <tr>\n",
       "      <th>11</th>\n",
       "      <td>11</td>\n",
       "      <td>PARENTAL001</td>\n",
       "      <td>649</td>\n",
       "      <td>alpha,alpha'-Bipyridyl</td>\n",
       "      <td>2,2'-Bipyridyl</td>\n",
       "    </tr>\n",
       "  </tbody>\n",
       "</table>\n",
       "</div>"
      ],
      "text/plain": [
       "    mutation_idx  ...                                          drug_name\n",
       "0              0  ...  (+-)-threo-1-Phenyl-2-decanoylamino-3-morpholi...\n",
       "1              1  ...                                                   \n",
       "2              2  ...                    3-Tropanyl-3,5-dichlorobenzoate\n",
       "3              3  ...                          Methoxamine hydrochloride\n",
       "4              4  ...                                        Lamotrigine\n",
       "5              5  ...                              Muscimol hydrobromide\n",
       "6              6  ...                         Putrescine dihydrochloride\n",
       "7              7  ...                                               CBIQ\n",
       "8              8  ...                                          SB 216763\n",
       "9              9  ...                                        Theobromine\n",
       "10            10  ...                                        Cinnarizine\n",
       "11            11  ...                                     2,2'-Bipyridyl\n",
       "\n",
       "[12 rows x 5 columns]"
      ]
     },
     "execution_count": 60,
     "metadata": {},
     "output_type": "execute_result"
    }
   ],
   "source": [
    "closest_embeddings = []\n",
    "for cl in range(12):\n",
    "    cl_name = dm.cell_line_df.iloc[cl][\"mutationDetailed\"]\n",
    "    closest_drug_idx = closest_node(cl_embeddings[cl,:], drug_embeddings)\n",
    "    drug_secname = dm.drug_df.iloc[closest_drug_idx][\"SecName\"]\n",
    "    drug_name = dm.drug_df.iloc[closest_drug_idx][\"Name\"]\n",
    "    closest_embeddings.append({\"mutation_idx\": cl, \"mutation_name\": cl_name,\n",
    "                              \"drug_idx\": closest_drug_idx, \"drug_secname\": drug_secname,\n",
    "                              \"drug_name\": drug_name})\n",
    "ce_df = pd.DataFrame(closest_embeddings)\n",
    "ce_df"
   ]
  },
  {
   "cell_type": "markdown",
   "metadata": {},
   "source": [
    "## Embedding + UMAP"
   ]
  },
  {
   "cell_type": "code",
   "execution_count": 61,
   "metadata": {},
   "outputs": [
    {
     "name": "stderr",
     "output_type": "stream",
     "text": [
      "INFO:lightning:GPU available: False, used: False\n",
      "INFO:lightning:\n",
      "   | Name           | Type       | Params\n",
      "------------------------------------------\n",
      "0  | drug_embedding | Embedding  | 13 K  \n",
      "1  | cl_embedding   | Embedding  | 120   \n",
      "2  | network        | Sequential | 60 K  \n",
      "3  | network.0      | Linear     | 672   \n",
      "4  | network.1      | Dropout    | 0     \n",
      "5  | network.2      | ReLU       | 0     \n",
      "6  | network.3      | Linear     | 2 K   \n",
      "7  | network.4      | Dropout    | 0     \n",
      "8  | network.5      | ReLU       | 0     \n",
      "9  | network.6      | Linear     | 8 K   \n",
      "10 | network.7      | Dropout    | 0     \n",
      "11 | network.8      | ReLU       | 0     \n",
      "12 | network.9      | Linear     | 49 K  \n"
     ]
    },
    {
     "data": {
      "application/vnd.jupyter.widget-view+json": {
       "model_id": "",
       "version_major": 2,
       "version_minor": 0
      },
      "text/plain": [
       "HBox(children=(FloatProgress(value=1.0, bar_style='info', description='Validation sanity check', layout=Layout…"
      ]
     },
     "metadata": {},
     "output_type": "display_data"
    },
    {
     "name": "stdout",
     "output_type": "stream",
     "text": [
      "Validation Epoch Loss: 31.396277484640287\n",
      "\r"
     ]
    },
    {
     "data": {
      "application/vnd.jupyter.widget-view+json": {
       "model_id": "c99369eba3054858b578a7f9b78c6618",
       "version_major": 2,
       "version_minor": 0
      },
      "text/plain": [
       "HBox(children=(FloatProgress(value=1.0, bar_style='info', description='Training', layout=Layout(flex='2'), max…"
      ]
     },
     "metadata": {},
     "output_type": "display_data"
    },
    {
     "data": {
      "application/vnd.jupyter.widget-view+json": {
       "model_id": "",
       "version_major": 2,
       "version_minor": 0
      },
      "text/plain": [
       "HBox(children=(FloatProgress(value=1.0, bar_style='info', description='Validating', layout=Layout(flex='2'), m…"
      ]
     },
     "metadata": {},
     "output_type": "display_data"
    },
    {
     "name": "stdout",
     "output_type": "stream",
     "text": [
      "Validation Epoch Loss: 0.07206748961761227\n"
     ]
    },
    {
     "data": {
      "application/vnd.jupyter.widget-view+json": {
       "model_id": "",
       "version_major": 2,
       "version_minor": 0
      },
      "text/plain": [
       "HBox(children=(FloatProgress(value=1.0, bar_style='info', description='Validating', layout=Layout(flex='2'), m…"
      ]
     },
     "metadata": {},
     "output_type": "display_data"
    },
    {
     "name": "stdout",
     "output_type": "stream",
     "text": [
      "Validation Epoch Loss: 0.06038022428745045\n"
     ]
    },
    {
     "data": {
      "application/vnd.jupyter.widget-view+json": {
       "model_id": "",
       "version_major": 2,
       "version_minor": 0
      },
      "text/plain": [
       "HBox(children=(FloatProgress(value=1.0, bar_style='info', description='Validating', layout=Layout(flex='2'), m…"
      ]
     },
     "metadata": {},
     "output_type": "display_data"
    },
    {
     "name": "stdout",
     "output_type": "stream",
     "text": [
      "Validation Epoch Loss: 0.053699895414743605\n"
     ]
    },
    {
     "data": {
      "application/vnd.jupyter.widget-view+json": {
       "model_id": "",
       "version_major": 2,
       "version_minor": 0
      },
      "text/plain": [
       "HBox(children=(FloatProgress(value=1.0, bar_style='info', description='Validating', layout=Layout(flex='2'), m…"
      ]
     },
     "metadata": {},
     "output_type": "display_data"
    },
    {
     "name": "stdout",
     "output_type": "stream",
     "text": [
      "Validation Epoch Loss: 0.045605768070856145\n"
     ]
    },
    {
     "data": {
      "application/vnd.jupyter.widget-view+json": {
       "model_id": "",
       "version_major": 2,
       "version_minor": 0
      },
      "text/plain": [
       "HBox(children=(FloatProgress(value=1.0, bar_style='info', description='Validating', layout=Layout(flex='2'), m…"
      ]
     },
     "metadata": {},
     "output_type": "display_data"
    },
    {
     "name": "stdout",
     "output_type": "stream",
     "text": [
      "Validation Epoch Loss: 0.04517822837820197\n",
      "\n"
     ]
    },
    {
     "data": {
      "text/plain": [
       "1"
      ]
     },
     "execution_count": 61,
     "metadata": {},
     "output_type": "execute_result"
    }
   ],
   "source": [
    "gmf_config = {\"latent_dim\": 10,\n",
    "             \"h_layers\": [32, 64, 128],\n",
    "             \"activation\": \"ReLU\",\n",
    "             \"lr\": 1e-3,\n",
    "             \"wd\": 1e-5,\n",
    "             \"batch_size\": 32,\n",
    "             \"num_workers\": 10,\n",
    "              \"loss\": \"MSE\"\n",
    "             }\n",
    "\n",
    "train_ds = PhenotypicFeaturesDataset(train=True, seed=42, train_val_split=0.15, transform=None)\n",
    "val_ds = PhenotypicFeaturesDataset(train=False, seed=42, train_val_split=0.15, transform=None)\n",
    "\n",
    "model2 = GMF(gmf_config, train_ds, val_ds)\n",
    "\n",
    "#early_stopping_cb = EarlyStopping('val_loss', patience=5)\n",
    "trainer = Trainer(gpus=0,\n",
    "                  max_epochs=5,\n",
    "                  default_save_path=\"/home/gvisona/Projects/interpreting-representations/idr0017/output\")\n",
    "                  #logger=[tb_logger, neptune_logger],\n",
    "                  #callbacks=[early_stopping_cb])\n",
    "trainer.fit(model2)"
   ]
  },
  {
   "cell_type": "code",
   "execution_count": 63,
   "metadata": {},
   "outputs": [],
   "source": [
    "drug_embeddings2 = model.get_drug_embeddings()\n",
    "cl_embeddings2 = model.get_cl_embeddings()"
   ]
  },
  {
   "cell_type": "code",
   "execution_count": 67,
   "metadata": {},
   "outputs": [],
   "source": [
    "reducer = umap.UMAP(n_components=2, random_state=42)\n",
    "drug_umap_embedding = reducer.fit_transform(drug_embeddings2)\n",
    "cl_umap_embedding = reducer.transform(cl_embeddings2)"
   ]
  },
  {
   "cell_type": "code",
   "execution_count": 68,
   "metadata": {},
   "outputs": [
    {
     "data": {
      "image/png": "[encoded data removed]",
      "text/plain": [
       "<Figure size 864x864 with 1 Axes>"
      ]
     },
     "metadata": {
      "needs_background": "light"
     },
     "output_type": "display_data"
    }
   ],
   "source": [
    "fig, ax = plt.subplots(figsize=(12,12))\n",
    "ax.scatter(drug_umap_embedding[:,0], drug_umap_embedding[:,1], c=\"orange\", label=\"drugs\")\n",
    "ax.scatter(cl_umap_embedding[:,0], cl_umap_embedding[:,1], c=\"blue\", label=\"mutations\")\n",
    "ax.legend()\n",
    "plt.show()"
   ]
  },
  {
   "cell_type": "code",
   "execution_count": null,
   "metadata": {},
   "outputs": [],
   "source": []
  }
 ],
 "metadata": {
  "kernelspec": {
   "display_name": "Python 3",
   "language": "python",
   "name": "python3"
  },
  "language_info": {
   "codemirror_mode": {
    "name": "ipython",
    "version": 3
   },
   "file_extension": ".py",
   "mimetype": "text/x-python",
   "name": "python",
   "nbconvert_exporter": "python",
   "pygments_lexer": "ipython3",
   "version": "3.7.6"
  },
  "toc": {
   "base_numbering": 1,
   "nav_menu": {},
   "number_sections": true,
   "sideBar": true,
   "skip_h1_title": false,
   "title_cell": "Table of Contents",
   "title_sidebar": "Contents",
   "toc_cell": false,
   "toc_position": {},
   "toc_section_display": true,
   "toc_window_display": false
  },
  "varInspector": {
   "cols": {
    "lenName": 16,
    "lenType": 16,
    "lenVar": 40
   },
   "kernels_config": {
    "python": {
     "delete_cmd_postfix": "",
     "delete_cmd_prefix": "del ",
     "library": "var_list.py",
     "varRefreshCmd": "print(var_dic_list())"
    },
    "r": {
     "delete_cmd_postfix": ") ",
     "delete_cmd_prefix": "rm(",
     "library": "var_list.r",
     "varRefreshCmd": "cat(var_dic_list()) "
    }
   },
   "types_to_exclude": [
    "module",
    "function",
    "builtin_function_or_method",
    "instance",
    "_Feature"
   ],
   "window_display": false
  }
 },
 "nbformat": 4,
 "nbformat_minor": 4
}
