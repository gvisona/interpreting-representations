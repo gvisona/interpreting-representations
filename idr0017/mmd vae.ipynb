{
 "cells": [
  {
   "cell_type": "code",
   "execution_count": 1,
   "metadata": {},
   "outputs": [],
   "source": [
    "import numpy as np\n",
    "\n",
    "import pandas as pd\n",
    "import torch\n",
    "import torch.nn as nn\n",
    "from torch.utils.data import DataLoader, Dataset\n",
    "import torchvision\n",
    "from torchvision.datasets import MNIST\n",
    "from IPython.display import display\n",
    "from configargparse import ArgumentParser\n",
    "import yaml\n",
    "import os\n",
    "import logging\n",
    "import pytorch_lightning as pl\n",
    "from pytorch_lightning import loggers, Trainer\n",
    "from pytorch_lightning.callbacks.early_stopping import EarlyStopping\n",
    "import importlib\n",
    "\n",
    "from DataManager import DataManager\n",
    "import gvdl\n",
    "importlib.reload(gvdl)\n",
    "from gvdl.models.conv_mmd_vae import ConvolutionalMMD_VAE\n",
    "\n",
    "from gvdl.utils.helpers import _log_level_string_to_int, _LOG_LEVEL_STRINGS\n",
    "from gvdl.utils.functions import calc_output_size_convnet, calc_output_size_transpose_convnet\n",
    "\n",
    "from dotenv import load_dotenv\n",
    "load_dotenv()\n",
    "\n",
    "import matplotlib\n",
    "import matplotlib.pyplot as plt\n",
    "%matplotlib inline"
   ]
  },
  {
   "cell_type": "code",
   "execution_count": 2,
   "metadata": {},
   "outputs": [],
   "source": [
    "train_ds = MNIST(\"/home/gvisona/datasets\", train=True, download=True, transform=torchvision.transforms.ToTensor())\n",
    "val_ds = MNIST(\"/home/gvisona/datasets\", train=False, download=True, transform=torchvision.transforms.ToTensor())"
   ]
  },
  {
   "cell_type": "code",
   "execution_count": 3,
   "metadata": {},
   "outputs": [],
   "source": [
    "# Custom image dataset\n",
    "sample = train_ds[0][0].squeeze()\n"
   ]
  },
  {
   "cell_type": "markdown",
   "metadata": {},
   "source": [
    "calc_output_size_convnet(hparams.input_size, hparams.conv_encoder_kernel_sizes, hparams.conv_encoder_paddings,\n",
    "                                               hparams.conv_encoder_strides, hparams.conv_encoder_dilations)"
   ]
  },
  {
   "cell_type": "markdown",
   "metadata": {},
   "source": [
    "calc_output_size_transpose_convnet(4, hparams.conv_decoder_kernel_sizes, \n",
    "                                   paddings=hparams.conv_decoder_paddings, \n",
    "                                   strides=hparams.conv_decoder_strides, \n",
    "                                   dilations=hparams.conv_decoder_dilations, \n",
    "                                   output_paddings=None)"
   ]
  },
  {
   "cell_type": "code",
   "execution_count": 4,
   "metadata": {},
   "outputs": [],
   "source": [
    "class Args:\n",
    "    seed=0\n",
    "    experiment_name=\"MMD_VAE_MNIST\"\n",
    "    model_dir=\"/home/gvisona/datasets\"\n",
    "    log_dir=\"/home/gvisona/datasets\"\n",
    "    log_level=20\n",
    "    neptune_project=\"gvisona/idr0017\"\n",
    "    gpus=0\n",
    "    max_epochs=10\n",
    "    f=\"/home/gvisona/.local/share/jupyter/runtime/kernel-13ddf605-9d2e-4ce0-bbf2-45ed98c3efea.json\"\n",
    "    reconstruction_loss=\"MSE\"\n",
    "    beta=0.00001\n",
    "    warmup_epochs=0\n",
    "    input_size=28\n",
    "    input_channels=1\n",
    "    crop_output=True\n",
    "    latent_dim=2\n",
    "    conv_batch_norm=False\n",
    "    fc_batch_norm=False\n",
    "    fc_dropout_p=0.1\n",
    "    conv_encoder_feature_maps=[8, 16, 32]\n",
    "    conv_encoder_kernel_sizes=[4, 4, 4]\n",
    "    conv_encoder_paddings=[1, 1, 1]\n",
    "    conv_encoder_strides=[2, 2, 2]\n",
    "    conv_encoder_dilations=[1, 1, 1]\n",
    "    conv_encoder_activations=\"ReLU\"\n",
    "    fc_encoder_hidden_layers=[64]\n",
    "    fc_encoder_activations=\"ReLU\"\n",
    "    conv_decoder_feature_maps=[64, 32, 8]\n",
    "    conv_decoder_kernel_sizes=[5, 4, 4]\n",
    "    conv_decoder_paddings=[2, 1, 1]\n",
    "    conv_decoder_strides=[2, 2, 2]\n",
    "    conv_decoder_dilations=[1, 1, 1]\n",
    "    conv_decoder_activations=\"ReLU\"\n",
    "    conv_decoder_final_activation=False\n",
    "    fc_decoder_hidden_layers=[64, 64*4*4]\n",
    "    fc_decoder_activations=\"ReLU\"\n",
    "    output_activation=False\n",
    "    batch_size=64\n",
    "    num_workers=6\n",
    "    learning_rate=0.01\n",
    "    weight_decay=0.00002\n",
    "    lr_scheduler=None\n",
    "    scheduler_gamma=None\n",
    "    scheduler_step_size=None\n",
    "    \n",
    "    \n",
    "hparams=Args()\n",
    "# set seeds\n",
    "torch.manual_seed(hparams.seed)\n",
    "torch.backends.cudnn.deterministic = True\n",
    "torch.backends.cudnn.benchmark = False\n",
    "np.random.seed(hparams.seed)"
   ]
  },
  {
   "cell_type": "code",
   "execution_count": 5,
   "metadata": {},
   "outputs": [
    {
     "name": "stderr",
     "output_type": "stream",
     "text": [
      "WARNING: There is a new version of neptune-client 0.4.116 (installed: 0.4.113).\n",
      "INFO:lightning:NeptuneLogger was initialized in online mode\n",
      "INFO:lightning:GPU available: False, used: False\n"
     ]
    }
   ],
   "source": [
    "tb_logger = loggers.TensorBoardLogger(hparams.log_dir)\n",
    "neptune_logger = loggers.NeptuneLogger(\n",
    "    project_name=hparams.neptune_project,\n",
    "    params=vars(hparams),\n",
    "    experiment_name=hparams.experiment_name)\n",
    "logging.basicConfig(level=hparams.log_level)\n",
    "with open(os.path.join(hparams.log_dir, 'config.yml'), 'w') as outfile:\n",
    "    yaml.dump(hparams.__dict__, outfile, default_flow_style=False)\n",
    "    \n",
    "model = ConvolutionalMMD_VAE(hparams, train_ds, val_ds)\n",
    "\n",
    "early_stopping_cb = EarlyStopping('val_loss', patience=5)\n",
    "trainer = Trainer(gpus=hparams.gpus,\n",
    "                  max_epochs=hparams.max_epochs,\n",
    "                  default_save_path=hparams.model_dir,\n",
    "                  logger=[tb_logger, neptune_logger],\n",
    "                  callbacks=[early_stopping_cb])\n",
    "  "
   ]
  },
  {
   "cell_type": "code",
   "execution_count": 6,
   "metadata": {
    "scrolled": false
   },
   "outputs": [
    {
     "data": {
      "image/png": "[encoded data removed]",
      "text/plain": [
       "<Figure size 720x720 with 1 Axes>"
      ]
     },
     "metadata": {
      "needs_background": "light"
     },
     "output_type": "display_data"
    }
   ],
   "source": [
    "fig, ax = plt.subplots(figsize=(10,10))\n",
    "ax.imshow(model.forward(sample[None, None, :,:])[0].squeeze().detach().numpy())\n",
    "plt.show()"
   ]
  },
  {
   "cell_type": "code",
   "execution_count": 7,
   "metadata": {
    "scrolled": false
   },
   "outputs": [
    {
     "name": "stderr",
     "output_type": "stream",
     "text": [
      "WARNING:neptune.internal.execution.execution_context:psutil is not installed. You will not be able to abort this experiment from the UI.\n",
      "WARNING:neptune.internal.execution.execution_context:psutil is not installed. Hardware metrics will not be collected.\n"
     ]
    },
    {
     "name": "stdout",
     "output_type": "stream",
     "text": [
      "https://ui.neptune.ai/gvisona/idr0017/e/IDR-26\n"
     ]
    },
    {
     "name": "stderr",
     "output_type": "stream",
     "text": [
      "INFO:lightning:\n",
      "   | Name                                                                         | Type                          | Params\n",
      "---------------------------------------------------------------------------------------------------------------------------\n",
      "0  | conv_encoder                                                                 | ConvolutionalEncoder          | 28 K  \n",
      "1  | conv_encoder.encoder_conv                                                    | ConvolutionalModule           | 10 K  \n",
      "2  | conv_encoder.encoder_conv.convolutional_module                               | Sequential                    | 10 K  \n",
      "3  | conv_encoder.encoder_conv.convolutional_module.Block_1                       | Sequential                    | 136   \n",
      "4  | conv_encoder.encoder_conv.convolutional_module.Block_1.Conv                  | Conv2d                        | 136   \n",
      "5  | conv_encoder.encoder_conv.convolutional_module.Block_1.Act                   | ReLU                          | 0     \n",
      "6  | conv_encoder.encoder_conv.convolutional_module.Block_2                       | Sequential                    | 2 K   \n",
      "7  | conv_encoder.encoder_conv.convolutional_module.Block_2.Conv                  | Conv2d                        | 2 K   \n",
      "8  | conv_encoder.encoder_conv.convolutional_module.Block_2.Act                   | ReLU                          | 0     \n",
      "9  | conv_encoder.encoder_conv.convolutional_module.Block_3                       | Sequential                    | 8 K   \n",
      "10 | conv_encoder.encoder_conv.convolutional_module.Block_3.Conv                  | Conv2d                        | 8 K   \n",
      "11 | conv_encoder.encoder_conv.convolutional_module.Block_3.Act                   | ReLU                          | 0     \n",
      "12 | conv_encoder.encoder_fc                                                      | FullyConnectedModule          | 18 K  \n",
      "13 | conv_encoder.encoder_fc.fc_block                                             | Sequential                    | 18 K  \n",
      "14 | conv_encoder.encoder_fc.fc_block.Block_1                                     | Sequential                    | 18 K  \n",
      "15 | conv_encoder.encoder_fc.fc_block.Block_1.Linear                              | Linear                        | 18 K  \n",
      "16 | conv_encoder.encoder_fc.fc_block.Block_1.Act                                 | ReLU                          | 0     \n",
      "17 | conv_encoder.encoder_fc.fc_block.Block_1.Drop                                | Dropout                       | 0     \n",
      "18 | fc_latent                                                                    | Linear                        | 130   \n",
      "19 | tconv_decoder                                                                | TransposeConvolutionalDecoder | 122 K \n",
      "20 | tconv_decoder.decoder_fc                                                     | FullyConnectedModule          | 66 K  \n",
      "21 | tconv_decoder.decoder_fc.fc_block                                            | Sequential                    | 66 K  \n",
      "22 | tconv_decoder.decoder_fc.fc_block.Block_1                                    | Sequential                    | 192   \n",
      "23 | tconv_decoder.decoder_fc.fc_block.Block_1.Linear                             | Linear                        | 192   \n",
      "24 | tconv_decoder.decoder_fc.fc_block.Block_1.Act                                | ReLU                          | 0     \n",
      "25 | tconv_decoder.decoder_fc.fc_block.Block_1.Drop                               | Dropout                       | 0     \n",
      "26 | tconv_decoder.decoder_fc.fc_block.Block_2                                    | Sequential                    | 66 K  \n",
      "27 | tconv_decoder.decoder_fc.fc_block.Block_2.Linear                             | Linear                        | 66 K  \n",
      "28 | tconv_decoder.decoder_fc.fc_block.Block_2.Act                                | ReLU                          | 0     \n",
      "29 | tconv_decoder.decoder_fc.fc_block.Block_2.Drop                               | Dropout                       | 0     \n",
      "30 | tconv_decoder.decoder_conv                                                   | TransposeConvolutionalModule  | 55 K  \n",
      "31 | tconv_decoder.decoder_conv.transpose_convolutional_module                    | Sequential                    | 55 K  \n",
      "32 | tconv_decoder.decoder_conv.transpose_convolutional_module.Block_1            | Sequential                    | 51 K  \n",
      "33 | tconv_decoder.decoder_conv.transpose_convolutional_module.Block_1.TranspConv | ConvTranspose2d               | 51 K  \n",
      "34 | tconv_decoder.decoder_conv.transpose_convolutional_module.Block_1.Act        | ReLU                          | 0     \n",
      "35 | tconv_decoder.decoder_conv.transpose_convolutional_module.Block_2            | Sequential                    | 4 K   \n",
      "36 | tconv_decoder.decoder_conv.transpose_convolutional_module.Block_2.TranspConv | ConvTranspose2d               | 4 K   \n",
      "37 | tconv_decoder.decoder_conv.transpose_convolutional_module.Block_2.Act        | ReLU                          | 0     \n",
      "38 | tconv_decoder.decoder_conv.transpose_convolutional_module.Block_3            | Sequential                    | 129   \n",
      "39 | tconv_decoder.decoder_conv.transpose_convolutional_module.Block_3.TranspConv | ConvTranspose2d               | 129   \n"
     ]
    },
    {
     "data": {
      "application/vnd.jupyter.widget-view+json": {
       "model_id": "",
       "version_major": 2,
       "version_minor": 0
      },
      "text/plain": [
       "HBox(children=(FloatProgress(value=1.0, bar_style='info', description='Validation sanity check', layout=Layout…"
      ]
     },
     "metadata": {},
     "output_type": "display_data"
    },
    {
     "name": "stdout",
     "output_type": "stream",
     "text": [
      "\r"
     ]
    },
    {
     "data": {
      "application/vnd.jupyter.widget-view+json": {
       "model_id": "ef6faabb15e4456c969d5762827ed92e",
       "version_major": 2,
       "version_minor": 0
      },
      "text/plain": [
       "HBox(children=(FloatProgress(value=1.0, bar_style='info', description='Training', layout=Layout(flex='2'), max…"
      ]
     },
     "metadata": {},
     "output_type": "display_data"
    },
    {
     "data": {
      "application/vnd.jupyter.widget-view+json": {
       "model_id": "",
       "version_major": 2,
       "version_minor": 0
      },
      "text/plain": [
       "HBox(children=(FloatProgress(value=1.0, bar_style='info', description='Validating', layout=Layout(flex='2'), m…"
      ]
     },
     "metadata": {},
     "output_type": "display_data"
    },
    {
     "data": {
      "application/vnd.jupyter.widget-view+json": {
       "model_id": "",
       "version_major": 2,
       "version_minor": 0
      },
      "text/plain": [
       "HBox(children=(FloatProgress(value=1.0, bar_style='info', description='Validating', layout=Layout(flex='2'), m…"
      ]
     },
     "metadata": {},
     "output_type": "display_data"
    },
    {
     "data": {
      "application/vnd.jupyter.widget-view+json": {
       "model_id": "",
       "version_major": 2,
       "version_minor": 0
      },
      "text/plain": [
       "HBox(children=(FloatProgress(value=1.0, bar_style='info', description='Validating', layout=Layout(flex='2'), m…"
      ]
     },
     "metadata": {},
     "output_type": "display_data"
    },
    {
     "data": {
      "application/vnd.jupyter.widget-view+json": {
       "model_id": "",
       "version_major": 2,
       "version_minor": 0
      },
      "text/plain": [
       "HBox(children=(FloatProgress(value=1.0, bar_style='info', description='Validating', layout=Layout(flex='2'), m…"
      ]
     },
     "metadata": {},
     "output_type": "display_data"
    },
    {
     "data": {
      "application/vnd.jupyter.widget-view+json": {
       "model_id": "",
       "version_major": 2,
       "version_minor": 0
      },
      "text/plain": [
       "HBox(children=(FloatProgress(value=1.0, bar_style='info', description='Validating', layout=Layout(flex='2'), m…"
      ]
     },
     "metadata": {},
     "output_type": "display_data"
    },
    {
     "data": {
      "application/vnd.jupyter.widget-view+json": {
       "model_id": "",
       "version_major": 2,
       "version_minor": 0
      },
      "text/plain": [
       "HBox(children=(FloatProgress(value=1.0, bar_style='info', description='Validating', layout=Layout(flex='2'), m…"
      ]
     },
     "metadata": {},
     "output_type": "display_data"
    },
    {
     "data": {
      "application/vnd.jupyter.widget-view+json": {
       "model_id": "",
       "version_major": 2,
       "version_minor": 0
      },
      "text/plain": [
       "HBox(children=(FloatProgress(value=1.0, bar_style='info', description='Validating', layout=Layout(flex='2'), m…"
      ]
     },
     "metadata": {},
     "output_type": "display_data"
    },
    {
     "data": {
      "application/vnd.jupyter.widget-view+json": {
       "model_id": "",
       "version_major": 2,
       "version_minor": 0
      },
      "text/plain": [
       "HBox(children=(FloatProgress(value=1.0, bar_style='info', description='Validating', layout=Layout(flex='2'), m…"
      ]
     },
     "metadata": {},
     "output_type": "display_data"
    },
    {
     "data": {
      "application/vnd.jupyter.widget-view+json": {
       "model_id": "",
       "version_major": 2,
       "version_minor": 0
      },
      "text/plain": [
       "HBox(children=(FloatProgress(value=1.0, bar_style='info', description='Validating', layout=Layout(flex='2'), m…"
      ]
     },
     "metadata": {},
     "output_type": "display_data"
    },
    {
     "data": {
      "application/vnd.jupyter.widget-view+json": {
       "model_id": "",
       "version_major": 2,
       "version_minor": 0
      },
      "text/plain": [
       "HBox(children=(FloatProgress(value=1.0, bar_style='info', description='Validating', layout=Layout(flex='2'), m…"
      ]
     },
     "metadata": {},
     "output_type": "display_data"
    },
    {
     "name": "stdout",
     "output_type": "stream",
     "text": [
      "\n"
     ]
    },
    {
     "data": {
      "text/plain": [
       "1"
      ]
     },
     "execution_count": 7,
     "metadata": {},
     "output_type": "execute_result"
    }
   ],
   "source": [
    "trainer.fit(model)"
   ]
  },
  {
   "cell_type": "code",
   "execution_count": null,
   "metadata": {},
   "outputs": [],
   "source": []
  }
 ],
 "metadata": {
  "kernelspec": {
   "display_name": "Python 3",
   "language": "python",
   "name": "python3"
  },
  "language_info": {
   "codemirror_mode": {
    "name": "ipython",
    "version": 3
   },
   "file_extension": ".py",
   "mimetype": "text/x-python",
   "name": "python",
   "nbconvert_exporter": "python",
   "pygments_lexer": "ipython3",
   "version": "3.7.6"
  },
  "toc": {
   "base_numbering": 1,
   "nav_menu": {},
   "number_sections": true,
   "sideBar": true,
   "skip_h1_title": false,
   "title_cell": "Table of Contents",
   "title_sidebar": "Contents",
   "toc_cell": false,
   "toc_position": {},
   "toc_section_display": true,
   "toc_window_display": false
  },
  "varInspector": {
   "cols": {
    "lenName": 16,
    "lenType": 16,
    "lenVar": 40
   },
   "kernels_config": {
    "python": {
     "delete_cmd_postfix": "",
     "delete_cmd_prefix": "del ",
     "library": "var_list.py",
     "varRefreshCmd": "print(var_dic_list())"
    },
    "r": {
     "delete_cmd_postfix": ") ",
     "delete_cmd_prefix": "rm(",
     "library": "var_list.r",
     "varRefreshCmd": "cat(var_dic_list()) "
    }
   },
   "types_to_exclude": [
    "module",
    "function",
    "builtin_function_or_method",
    "instance",
    "_Feature"
   ],
   "window_display": false
  }
 },
 "nbformat": 4,
 "nbformat_minor": 4
}
